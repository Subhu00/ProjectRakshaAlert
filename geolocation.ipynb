{
 "cells": [
  {
   "cell_type": "code",
   "execution_count": 1,
   "id": "abac5c22-9342-4fd0-9715-2d106ab7b7f7",
   "metadata": {},
   "outputs": [
    {
     "name": "stdout",
     "output_type": "stream",
     "text": [
      "Requirement already satisfied: opencv-python in c:\\users\\avijit dutta\\appdata\\local\\programs\\python\\python312\\lib\\site-packages (4.10.0.84)\n",
      "Collecting geocoder\n",
      "  Using cached geocoder-1.38.1-py2.py3-none-any.whl.metadata (14 kB)\n",
      "Requirement already satisfied: numpy>=1.21.2 in c:\\users\\avijit dutta\\appdata\\local\\programs\\python\\python312\\lib\\site-packages (from opencv-python) (1.26.4)\n",
      "Requirement already satisfied: click in c:\\users\\avijit dutta\\appdata\\local\\programs\\python\\python312\\lib\\site-packages (from geocoder) (8.1.7)\n",
      "Collecting future (from geocoder)\n",
      "  Downloading future-1.0.0-py3-none-any.whl.metadata (4.0 kB)\n",
      "Collecting ratelim (from geocoder)\n",
      "  Using cached ratelim-0.1.6-py2.py3-none-any.whl.metadata (1.4 kB)\n",
      "Requirement already satisfied: requests in c:\\users\\avijit dutta\\appdata\\local\\programs\\python\\python312\\lib\\site-packages (from geocoder) (2.32.3)\n",
      "Requirement already satisfied: six in c:\\users\\avijit dutta\\appdata\\local\\programs\\python\\python312\\lib\\site-packages (from geocoder) (1.16.0)\n",
      "Requirement already satisfied: colorama in c:\\users\\avijit dutta\\appdata\\local\\programs\\python\\python312\\lib\\site-packages (from click->geocoder) (0.4.6)\n",
      "Requirement already satisfied: decorator in c:\\users\\avijit dutta\\appdata\\local\\programs\\python\\python312\\lib\\site-packages (from ratelim->geocoder) (4.4.2)\n",
      "Requirement already satisfied: charset-normalizer<4,>=2 in c:\\users\\avijit dutta\\appdata\\local\\programs\\python\\python312\\lib\\site-packages (from requests->geocoder) (3.3.2)\n",
      "Requirement already satisfied: idna<4,>=2.5 in c:\\users\\avijit dutta\\appdata\\local\\programs\\python\\python312\\lib\\site-packages (from requests->geocoder) (3.7)\n",
      "Requirement already satisfied: urllib3<3,>=1.21.1 in c:\\users\\avijit dutta\\appdata\\local\\programs\\python\\python312\\lib\\site-packages (from requests->geocoder) (2.2.2)\n",
      "Requirement already satisfied: certifi>=2017.4.17 in c:\\users\\avijit dutta\\appdata\\local\\programs\\python\\python312\\lib\\site-packages (from requests->geocoder) (2024.7.4)\n",
      "Using cached geocoder-1.38.1-py2.py3-none-any.whl (98 kB)\n",
      "Downloading future-1.0.0-py3-none-any.whl (491 kB)\n",
      "   ---------------------------------------- 0.0/491.3 kB ? eta -:--:--\n",
      "   ----- ---------------------------------- 61.4/491.3 kB 1.1 MB/s eta 0:00:01\n",
      "   --------------- ------------------------ 194.6/491.3 kB 2.4 MB/s eta 0:00:01\n",
      "   ----------------------------- ---------- 358.4/491.3 kB 2.8 MB/s eta 0:00:01\n",
      "   ---------------------------------------- 491.3/491.3 kB 2.8 MB/s eta 0:00:00\n",
      "Using cached ratelim-0.1.6-py2.py3-none-any.whl (4.0 kB)\n",
      "Installing collected packages: ratelim, future, geocoder\n",
      "Successfully installed future-1.0.0 geocoder-1.38.1 ratelim-0.1.6\n",
      "Note: you may need to restart the kernel to use updated packages.\n"
     ]
    },
    {
     "name": "stderr",
     "output_type": "stream",
     "text": [
      "\n",
      "[notice] A new release of pip is available: 24.0 -> 24.2\n",
      "[notice] To update, run: python.exe -m pip install --upgrade pip\n"
     ]
    }
   ],
   "source": [
    "pip install opencv-python geocoder"
   ]
  },
  {
   "cell_type": "code",
   "execution_count": 1,
   "id": "78d41323-9926-4d27-ad65-4064631c2daa",
   "metadata": {},
   "outputs": [],
   "source": [
    "import cv2\n",
    "import geocoder\n",
    "\n",
    "# Initialize the webcam\n",
    "cap = cv2.VideoCapture(0)\n",
    "\n",
    "if not cap.isOpened():\n",
    "    print(\"Error: Could not open video capture.\")\n",
    "    exit()\n",
    "\n",
    "# Fetch the geolocation once to avoid repeated API calls\n",
    "g = geocoder.ip('me')  # 'me' will use the public IP of the machine\n",
    "\n",
    "# If the geolocation is incorrect, you can override it manually\n",
    "if g.city == \"Delhi\" and not g.latlng == [28.7041, 77.1025]:  # Example of checking if the location is wrong\n",
    "    # Set a manual location (Bhubaneswar example)\n",
    "    location_info = \"Location: Bhubaneswar, Odisha, India - Lat: 20.2961, Lng: 85.8245\"\n",
    "else:\n",
    "    # If the location is accurate, use the fetched geolocation\n",
    "    location_info = f\"Location: {g.city}, {g.state}, {g.country} - Lat: {g.latlng[0]}, Lng: {g.latlng[1]}\"\n",
    "\n",
    "while True:\n",
    "    # Capture frame-by-frame\n",
    "    ret, frame = cap.read()\n",
    "    \n",
    "    if not ret:\n",
    "        print(\"Error: Could not read frame.\")\n",
    "        break\n",
    "\n",
    "    # Display the location on the frame\n",
    "    cv2.putText(frame, location_info, (10, 30), cv2.FONT_HERSHEY_SIMPLEX, 0.7, (0, 255, 0), 2, cv2.LINE_AA)\n",
    "\n",
    "    # Display the resulting frame\n",
    "    cv2.imshow('Video Feed', frame)\n",
    "\n",
    "    # Break the loop on 'q' key press\n",
    "    if cv2.waitKey(1) & 0xFF == ord('q'):\n",
    "        break\n",
    "\n",
    "# Release the capture and close windows\n",
    "cap.release()\n",
    "cv2.destroyAllWindows()\n"
   ]
  },
  {
   "cell_type": "code",
   "execution_count": null,
   "id": "cd2c504b-5542-4123-a572-01a50c36aab4",
   "metadata": {},
   "outputs": [],
   "source": []
  }
 ],
 "metadata": {
  "kernelspec": {
   "display_name": "Python 3 (ipykernel)",
   "language": "python",
   "name": "python3"
  },
  "language_info": {
   "codemirror_mode": {
    "name": "ipython",
    "version": 3
   },
   "file_extension": ".py",
   "mimetype": "text/x-python",
   "name": "python",
   "nbconvert_exporter": "python",
   "pygments_lexer": "ipython3",
   "version": "3.12.4"
  }
 },
 "nbformat": 4,
 "nbformat_minor": 5
}
